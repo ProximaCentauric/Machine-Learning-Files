{
  "cells": [
    {
      "cell_type": "markdown",
      "id": "04a9d098",
      "metadata": {
        "id": "04a9d098"
      },
      "source": [
        "# Lab 2\n",
        "\n",
        "In this lab we will:\n",
        "- Introduce the stastical model behind simple linear regression,\n",
        "- Learn about train test splits,\n",
        "- Look at explanatory slr, and\n",
        "- End with predictive slr."
      ]
    },
    {
      "cell_type": "markdown",
      "id": "5c8ceae2",
      "metadata": {
        "id": "5c8ceae2"
      },
      "source": [
        "## Regression Modeling\n",
        "\n",
        "Let's say we have a data set and we've collected some features, $X$, and some output data, $y$, and we believe there is some true relationship between the two:\n",
        "\n",
        "$$\n",
        "y = f(X) + \\epsilon,\n",
        "$$\n",
        "called the <i>model</i>.\n",
        "\n",
        "When the output is numerical, we call it regression model. It is common to say that we are regressing $y$ on $X$."
      ]
    },
    {
      "cell_type": "markdown",
      "id": "8db86abb",
      "metadata": {
        "id": "8db86abb"
      },
      "source": [
        "### Example\n",
        "\n",
        "In this example we will consider sales based on 'TV' marketing budget from\n",
        "https://raw.githubusercontent.com/devzohaib/Simple-Linear-Regression/master/tvmarketing.csv\n",
        "\n",
        "We'll build a linear regression model to predict 'Sales' using 'TV' as the predictor variable."
      ]
    },
    {
      "cell_type": "code",
      "execution_count": null,
      "id": "e1ff3e3e",
      "metadata": {
        "id": "e1ff3e3e"
      },
      "outputs": [],
      "source": [
        "# Use pandas to import the data\n",
        "#tvmarketing\n",
        "\n",
        "import pandas as pd\n",
        "\n",
        "tv = pd.read_csv('https://raw.githubusercontent.com/devzohaib/Simple-Linear-Regression/master/tvmarketing.csv')"
      ]
    },
    {
      "cell_type": "code",
      "execution_count": null,
      "id": "57a18a3d",
      "metadata": {
        "id": "57a18a3d"
      },
      "outputs": [],
      "source": [
        "## Use .copy() to make a copy of the original dataframe so we dont mess the original data.\n",
        "\n",
        "# tvmarketing_copy =\n",
        "tv_copy = tv.copy()"
      ]
    },
    {
      "cell_type": "markdown",
      "id": "2c7cd908",
      "metadata": {
        "id": "2c7cd908"
      },
      "source": [
        "Now examine your dataset (for example, what is the size of your table? what are your features?)"
      ]
    },
    {
      "cell_type": "code",
      "execution_count": null,
      "id": "8bde1e95",
      "metadata": {
        "colab": {
          "base_uri": "https://localhost:8080/"
        },
        "id": "8bde1e95",
        "outputId": "94488aeb-655a-40ad-c8c8-1737a8ee2dea"
      },
      "outputs": [
        {
          "output_type": "stream",
          "name": "stdout",
          "text": [
            "        TV  Sales\n",
            "0    230.1   22.1\n",
            "1     44.5   10.4\n",
            "2     17.2    9.3\n",
            "3    151.5   18.5\n",
            "4    180.8   12.9\n",
            "..     ...    ...\n",
            "195   38.2    7.6\n",
            "196   94.2    9.7\n",
            "197  177.0   12.8\n",
            "198  283.6   25.5\n",
            "199  232.1   13.4\n",
            "\n",
            "[200 rows x 2 columns]\n"
          ]
        }
      ],
      "source": [
        "# you code\n",
        "print(tv)"
      ]
    },
    {
      "cell_type": "code",
      "execution_count": null,
      "id": "ce5fdf7d",
      "metadata": {
        "colab": {
          "base_uri": "https://localhost:8080/"
        },
        "id": "ce5fdf7d",
        "outputId": "50488f9c-1892-49c8-a63a-cf9f4105f5a1"
      },
      "outputs": [
        {
          "output_type": "stream",
          "name": "stdout",
          "text": [
            "<class 'pandas.core.frame.DataFrame'>\n",
            "RangeIndex: 200 entries, 0 to 199\n",
            "Data columns (total 2 columns):\n",
            " #   Column  Non-Null Count  Dtype  \n",
            "---  ------  --------------  -----  \n",
            " 0   TV      200 non-null    float64\n",
            " 1   Sales   200 non-null    float64\n",
            "dtypes: float64(2)\n",
            "memory usage: 3.2 KB\n"
          ]
        }
      ],
      "source": [
        "# use .info() to check your columns\n",
        "tv.info()"
      ]
    },
    {
      "cell_type": "code",
      "execution_count": null,
      "id": "8876ef51",
      "metadata": {
        "colab": {
          "base_uri": "https://localhost:8080/",
          "height": 300
        },
        "id": "8876ef51",
        "outputId": "dc947fba-e766-48eb-d605-e1bdb9ec697c"
      },
      "outputs": [
        {
          "output_type": "execute_result",
          "data": {
            "text/plain": [
              "               TV       Sales\n",
              "count  200.000000  200.000000\n",
              "mean   147.042500   14.022500\n",
              "std     85.854236    5.217457\n",
              "min      0.700000    1.600000\n",
              "25%     74.375000   10.375000\n",
              "50%    149.750000   12.900000\n",
              "75%    218.825000   17.400000\n",
              "max    296.400000   27.000000"
            ],
            "text/html": [
              "\n",
              "  <div id=\"df-b232a16a-0335-445d-bf97-5faaa1f5d523\" class=\"colab-df-container\">\n",
              "    <div>\n",
              "<style scoped>\n",
              "    .dataframe tbody tr th:only-of-type {\n",
              "        vertical-align: middle;\n",
              "    }\n",
              "\n",
              "    .dataframe tbody tr th {\n",
              "        vertical-align: top;\n",
              "    }\n",
              "\n",
              "    .dataframe thead th {\n",
              "        text-align: right;\n",
              "    }\n",
              "</style>\n",
              "<table border=\"1\" class=\"dataframe\">\n",
              "  <thead>\n",
              "    <tr style=\"text-align: right;\">\n",
              "      <th></th>\n",
              "      <th>TV</th>\n",
              "      <th>Sales</th>\n",
              "    </tr>\n",
              "  </thead>\n",
              "  <tbody>\n",
              "    <tr>\n",
              "      <th>count</th>\n",
              "      <td>200.000000</td>\n",
              "      <td>200.000000</td>\n",
              "    </tr>\n",
              "    <tr>\n",
              "      <th>mean</th>\n",
              "      <td>147.042500</td>\n",
              "      <td>14.022500</td>\n",
              "    </tr>\n",
              "    <tr>\n",
              "      <th>std</th>\n",
              "      <td>85.854236</td>\n",
              "      <td>5.217457</td>\n",
              "    </tr>\n",
              "    <tr>\n",
              "      <th>min</th>\n",
              "      <td>0.700000</td>\n",
              "      <td>1.600000</td>\n",
              "    </tr>\n",
              "    <tr>\n",
              "      <th>25%</th>\n",
              "      <td>74.375000</td>\n",
              "      <td>10.375000</td>\n",
              "    </tr>\n",
              "    <tr>\n",
              "      <th>50%</th>\n",
              "      <td>149.750000</td>\n",
              "      <td>12.900000</td>\n",
              "    </tr>\n",
              "    <tr>\n",
              "      <th>75%</th>\n",
              "      <td>218.825000</td>\n",
              "      <td>17.400000</td>\n",
              "    </tr>\n",
              "    <tr>\n",
              "      <th>max</th>\n",
              "      <td>296.400000</td>\n",
              "      <td>27.000000</td>\n",
              "    </tr>\n",
              "  </tbody>\n",
              "</table>\n",
              "</div>\n",
              "    <div class=\"colab-df-buttons\">\n",
              "\n",
              "  <div class=\"colab-df-container\">\n",
              "    <button class=\"colab-df-convert\" onclick=\"convertToInteractive('df-b232a16a-0335-445d-bf97-5faaa1f5d523')\"\n",
              "            title=\"Convert this dataframe to an interactive table.\"\n",
              "            style=\"display:none;\">\n",
              "\n",
              "  <svg xmlns=\"http://www.w3.org/2000/svg\" height=\"24px\" viewBox=\"0 -960 960 960\">\n",
              "    <path d=\"M120-120v-720h720v720H120Zm60-500h600v-160H180v160Zm220 220h160v-160H400v160Zm0 220h160v-160H400v160ZM180-400h160v-160H180v160Zm440 0h160v-160H620v160ZM180-180h160v-160H180v160Zm440 0h160v-160H620v160Z\"/>\n",
              "  </svg>\n",
              "    </button>\n",
              "\n",
              "  <style>\n",
              "    .colab-df-container {\n",
              "      display:flex;\n",
              "      gap: 12px;\n",
              "    }\n",
              "\n",
              "    .colab-df-convert {\n",
              "      background-color: #E8F0FE;\n",
              "      border: none;\n",
              "      border-radius: 50%;\n",
              "      cursor: pointer;\n",
              "      display: none;\n",
              "      fill: #1967D2;\n",
              "      height: 32px;\n",
              "      padding: 0 0 0 0;\n",
              "      width: 32px;\n",
              "    }\n",
              "\n",
              "    .colab-df-convert:hover {\n",
              "      background-color: #E2EBFA;\n",
              "      box-shadow: 0px 1px 2px rgba(60, 64, 67, 0.3), 0px 1px 3px 1px rgba(60, 64, 67, 0.15);\n",
              "      fill: #174EA6;\n",
              "    }\n",
              "\n",
              "    .colab-df-buttons div {\n",
              "      margin-bottom: 4px;\n",
              "    }\n",
              "\n",
              "    [theme=dark] .colab-df-convert {\n",
              "      background-color: #3B4455;\n",
              "      fill: #D2E3FC;\n",
              "    }\n",
              "\n",
              "    [theme=dark] .colab-df-convert:hover {\n",
              "      background-color: #434B5C;\n",
              "      box-shadow: 0px 1px 3px 1px rgba(0, 0, 0, 0.15);\n",
              "      filter: drop-shadow(0px 1px 2px rgba(0, 0, 0, 0.3));\n",
              "      fill: #FFFFFF;\n",
              "    }\n",
              "  </style>\n",
              "\n",
              "    <script>\n",
              "      const buttonEl =\n",
              "        document.querySelector('#df-b232a16a-0335-445d-bf97-5faaa1f5d523 button.colab-df-convert');\n",
              "      buttonEl.style.display =\n",
              "        google.colab.kernel.accessAllowed ? 'block' : 'none';\n",
              "\n",
              "      async function convertToInteractive(key) {\n",
              "        const element = document.querySelector('#df-b232a16a-0335-445d-bf97-5faaa1f5d523');\n",
              "        const dataTable =\n",
              "          await google.colab.kernel.invokeFunction('convertToInteractive',\n",
              "                                                    [key], {});\n",
              "        if (!dataTable) return;\n",
              "\n",
              "        const docLinkHtml = 'Like what you see? Visit the ' +\n",
              "          '<a target=\"_blank\" href=https://colab.research.google.com/notebooks/data_table.ipynb>data table notebook</a>'\n",
              "          + ' to learn more about interactive tables.';\n",
              "        element.innerHTML = '';\n",
              "        dataTable['output_type'] = 'display_data';\n",
              "        await google.colab.output.renderOutput(dataTable, element);\n",
              "        const docLink = document.createElement('div');\n",
              "        docLink.innerHTML = docLinkHtml;\n",
              "        element.appendChild(docLink);\n",
              "      }\n",
              "    </script>\n",
              "  </div>\n",
              "\n",
              "\n",
              "<div id=\"df-6e6e2d7f-4f77-4b5a-8804-514f15382991\">\n",
              "  <button class=\"colab-df-quickchart\" onclick=\"quickchart('df-6e6e2d7f-4f77-4b5a-8804-514f15382991')\"\n",
              "            title=\"Suggest charts.\"\n",
              "            style=\"display:none;\">\n",
              "\n",
              "<svg xmlns=\"http://www.w3.org/2000/svg\" height=\"24px\"viewBox=\"0 0 24 24\"\n",
              "     width=\"24px\">\n",
              "    <g>\n",
              "        <path d=\"M19 3H5c-1.1 0-2 .9-2 2v14c0 1.1.9 2 2 2h14c1.1 0 2-.9 2-2V5c0-1.1-.9-2-2-2zM9 17H7v-7h2v7zm4 0h-2V7h2v10zm4 0h-2v-4h2v4z\"/>\n",
              "    </g>\n",
              "</svg>\n",
              "  </button>\n",
              "\n",
              "<style>\n",
              "  .colab-df-quickchart {\n",
              "      --bg-color: #E8F0FE;\n",
              "      --fill-color: #1967D2;\n",
              "      --hover-bg-color: #E2EBFA;\n",
              "      --hover-fill-color: #174EA6;\n",
              "      --disabled-fill-color: #AAA;\n",
              "      --disabled-bg-color: #DDD;\n",
              "  }\n",
              "\n",
              "  [theme=dark] .colab-df-quickchart {\n",
              "      --bg-color: #3B4455;\n",
              "      --fill-color: #D2E3FC;\n",
              "      --hover-bg-color: #434B5C;\n",
              "      --hover-fill-color: #FFFFFF;\n",
              "      --disabled-bg-color: #3B4455;\n",
              "      --disabled-fill-color: #666;\n",
              "  }\n",
              "\n",
              "  .colab-df-quickchart {\n",
              "    background-color: var(--bg-color);\n",
              "    border: none;\n",
              "    border-radius: 50%;\n",
              "    cursor: pointer;\n",
              "    display: none;\n",
              "    fill: var(--fill-color);\n",
              "    height: 32px;\n",
              "    padding: 0;\n",
              "    width: 32px;\n",
              "  }\n",
              "\n",
              "  .colab-df-quickchart:hover {\n",
              "    background-color: var(--hover-bg-color);\n",
              "    box-shadow: 0 1px 2px rgba(60, 64, 67, 0.3), 0 1px 3px 1px rgba(60, 64, 67, 0.15);\n",
              "    fill: var(--button-hover-fill-color);\n",
              "  }\n",
              "\n",
              "  .colab-df-quickchart-complete:disabled,\n",
              "  .colab-df-quickchart-complete:disabled:hover {\n",
              "    background-color: var(--disabled-bg-color);\n",
              "    fill: var(--disabled-fill-color);\n",
              "    box-shadow: none;\n",
              "  }\n",
              "\n",
              "  .colab-df-spinner {\n",
              "    border: 2px solid var(--fill-color);\n",
              "    border-color: transparent;\n",
              "    border-bottom-color: var(--fill-color);\n",
              "    animation:\n",
              "      spin 1s steps(1) infinite;\n",
              "  }\n",
              "\n",
              "  @keyframes spin {\n",
              "    0% {\n",
              "      border-color: transparent;\n",
              "      border-bottom-color: var(--fill-color);\n",
              "      border-left-color: var(--fill-color);\n",
              "    }\n",
              "    20% {\n",
              "      border-color: transparent;\n",
              "      border-left-color: var(--fill-color);\n",
              "      border-top-color: var(--fill-color);\n",
              "    }\n",
              "    30% {\n",
              "      border-color: transparent;\n",
              "      border-left-color: var(--fill-color);\n",
              "      border-top-color: var(--fill-color);\n",
              "      border-right-color: var(--fill-color);\n",
              "    }\n",
              "    40% {\n",
              "      border-color: transparent;\n",
              "      border-right-color: var(--fill-color);\n",
              "      border-top-color: var(--fill-color);\n",
              "    }\n",
              "    60% {\n",
              "      border-color: transparent;\n",
              "      border-right-color: var(--fill-color);\n",
              "    }\n",
              "    80% {\n",
              "      border-color: transparent;\n",
              "      border-right-color: var(--fill-color);\n",
              "      border-bottom-color: var(--fill-color);\n",
              "    }\n",
              "    90% {\n",
              "      border-color: transparent;\n",
              "      border-bottom-color: var(--fill-color);\n",
              "    }\n",
              "  }\n",
              "</style>\n",
              "\n",
              "  <script>\n",
              "    async function quickchart(key) {\n",
              "      const quickchartButtonEl =\n",
              "        document.querySelector('#' + key + ' button');\n",
              "      quickchartButtonEl.disabled = true;  // To prevent multiple clicks.\n",
              "      quickchartButtonEl.classList.add('colab-df-spinner');\n",
              "      try {\n",
              "        const charts = await google.colab.kernel.invokeFunction(\n",
              "            'suggestCharts', [key], {});\n",
              "      } catch (error) {\n",
              "        console.error('Error during call to suggestCharts:', error);\n",
              "      }\n",
              "      quickchartButtonEl.classList.remove('colab-df-spinner');\n",
              "      quickchartButtonEl.classList.add('colab-df-quickchart-complete');\n",
              "    }\n",
              "    (() => {\n",
              "      let quickchartButtonEl =\n",
              "        document.querySelector('#df-6e6e2d7f-4f77-4b5a-8804-514f15382991 button');\n",
              "      quickchartButtonEl.style.display =\n",
              "        google.colab.kernel.accessAllowed ? 'block' : 'none';\n",
              "    })();\n",
              "  </script>\n",
              "</div>\n",
              "    </div>\n",
              "  </div>\n"
            ]
          },
          "metadata": {},
          "execution_count": 9
        }
      ],
      "source": [
        "# use .describe() to look at some statistical information about the dataframe.\n",
        "tv.describe()"
      ]
    },
    {
      "cell_type": "code",
      "execution_count": null,
      "id": "d83488e4",
      "metadata": {
        "colab": {
          "base_uri": "https://localhost:8080/",
          "height": 430
        },
        "id": "d83488e4",
        "outputId": "3ca1c7fc-df9f-4af2-c2b9-277f818a8da0"
      },
      "outputs": [
        {
          "output_type": "display_data",
          "data": {
            "text/plain": [
              "<Figure size 640x480 with 1 Axes>"
            ],
            "image/png": "[encoded data removed]"
          },
          "metadata": {}
        }
      ],
      "source": [
        "# plot your data to Visualise the relationship between the features\n",
        "import matplotlib.pyplot as plt\n",
        "\n",
        "\n",
        "plt.scatter(tv[\"TV\"],tv[\"Sales\"])\n",
        "plt.show()"
      ]
    },
    {
      "cell_type": "markdown",
      "id": "64277ed7",
      "metadata": {
        "id": "64277ed7"
      },
      "source": []
    },
    {
      "cell_type": "code",
      "execution_count": null,
      "id": "acbd2a34",
      "metadata": {
        "id": "acbd2a34"
      },
      "outputs": [],
      "source": []
    },
    {
      "cell_type": "code",
      "execution_count": null,
      "id": "520076ee",
      "metadata": {
        "id": "520076ee"
      },
      "outputs": [],
      "source": []
    },
    {
      "cell_type": "markdown",
      "id": "6804eecb",
      "metadata": {
        "id": "6804eecb"
      },
      "source": [
        "### Training Test Split\n",
        "\n",
        "Imagine you're teaching a dog new tricks. To make sure your pup can do more than just roll over at home, you decide to test their skills in the park.\n",
        "\n",
        "**Training:** At home, you teach your dog the basics, like sit, stay, and fetch. This is your \"training\" phase. Your dog learns from your commands, but it's still in familiar surroundings.\n",
        "\n",
        "But here's the catch: just because your dog listens at home doesn't mean they'll follow your orders in the park with distractions.\n",
        "\n",
        "**Testing:** So, you go to the park, where there are squirrels, other dogs, and tons of distractions. This is like your \"test\" phase. You want to see if your dog can perform the tricks they learned at home in this new, more challenging environment.\n",
        "\n",
        "In the same way, in machine learning, we want to set aside a small subset of the data for testing purposes. This is known as making the <i>train test split</i>. The test data exists as a sanity check to see if the model is as good as the training data tells us.\n",
        "\n"
      ]
    },
    {
      "cell_type": "markdown",
      "id": "b71edf70",
      "metadata": {
        "id": "b71edf70"
      },
      "source": [
        "Let's use `pandas` to make our train test split."
      ]
    },
    {
      "cell_type": "code",
      "execution_count": null,
      "id": "c6f80a89",
      "metadata": {
        "id": "c6f80a89"
      },
      "outputs": [],
      "source": [
        "## Now use .sample(frac = , random_state = 440) to make a random sample\n",
        "## frac allows us to choose a fraction of the df\n",
        "## it is common to set aside 25% for testing\n",
        "##random_state is the seed used by the random number generator, it can be any integer.\n",
        "\n",
        "\n",
        "tv_train = tv.sample(frac = 0.75, random_state = 440)"
      ]
    },
    {
      "cell_type": "code",
      "execution_count": null,
      "id": "e4ec97a9",
      "metadata": {
        "id": "e4ec97a9"
      },
      "outputs": [],
      "source": [
        "## now use .drop and the train index to make test\n",
        "#tvmarketing_test = tvmarketing_copy.drop(tvmarketing_train.index)\n",
        "\n",
        "tv_test = tv_copy.drop(tv_train.index)"
      ]
    },
    {
      "cell_type": "markdown",
      "id": "b0a0105f",
      "metadata": {
        "id": "b0a0105f"
      },
      "source": [
        "Lets stop and understand the general structure of modeling using the `scikit-learn library`. The steps to build any model can be divided as follows:\n",
        "\n",
        "-  X (feature variable) and y (output variable) need to be NumPy arrays.\n",
        "-  But its okay to use Pandas dataframe as Pandas is built over NumPy."
      ]
    },
    {
      "cell_type": "code",
      "execution_count": null,
      "id": "e017389d",
      "metadata": {
        "id": "e017389d"
      },
      "outputs": [],
      "source": [
        "# Define X (tv from train dataset)\n",
        "import numpy as np\n",
        "\n",
        "X_train = np.array(tv_train[\"TV\"]).reshape(-1,1)"
      ]
    },
    {
      "cell_type": "code",
      "execution_count": null,
      "id": "1b5ea342",
      "metadata": {
        "id": "1b5ea342"
      },
      "outputs": [],
      "source": [
        "# define Y (sales from train dataset)\n",
        "\n",
        "y_train = np.array(tv_train[\"Sales\"]).reshape(-1,1)"
      ]
    },
    {
      "cell_type": "markdown",
      "id": "4d09b3cf",
      "metadata": {
        "id": "4d09b3cf"
      },
      "source": [
        "If you extract your features X and y from the original dataset, rather than just the training dataset, you can also perform the train-test split using scikit-learn (sklearn) in Python. Note that running the next cell will overwrite your X and y, so practice this later at home."
      ]
    },
    {
      "cell_type": "code",
      "execution_count": null,
      "id": "ceded639",
      "metadata": {
        "id": "ceded639"
      },
      "outputs": [],
      "source": [
        "from sklearn.model_selection import train_test_split"
      ]
    },
    {
      "cell_type": "markdown",
      "id": "f7cc944b",
      "metadata": {
        "id": "f7cc944b"
      },
      "source": [
        "Now lets perform linear regression using sklearn library (check the documentation if you need help!)"
      ]
    },
    {
      "cell_type": "code",
      "execution_count": null,
      "id": "a005be40",
      "metadata": {
        "colab": {
          "base_uri": "https://localhost:8080/",
          "height": 74
        },
        "id": "a005be40",
        "outputId": "4fe768d6-a8ac-49bf-becb-6b4af64d21ba"
      },
      "outputs": [
        {
          "output_type": "execute_result",
          "data": {
            "text/plain": [
              "LinearRegression()"
            ],
            "text/html": [
              "<style>#sk-container-id-1 {color: black;background-color: white;}#sk-container-id-1 pre{padding: 0;}#sk-container-id-1 div.sk-toggleable {background-color: white;}#sk-container-id-1 label.sk-toggleable__label {cursor: pointer;display: block;width: 100%;margin-bottom: 0;padding: 0.3em;box-sizing: border-box;text-align: center;}#sk-container-id-1 label.sk-toggleable__label-arrow:before {content: \"▸\";float: left;margin-right: 0.25em;color: #696969;}#sk-container-id-1 label.sk-toggleable__label-arrow:hover:before {color: black;}#sk-container-id-1 div.sk-estimator:hover label.sk-toggleable__label-arrow:before {color: black;}#sk-container-id-1 div.sk-toggleable__content {max-height: 0;max-width: 0;overflow: hidden;text-align: left;background-color: #f0f8ff;}#sk-container-id-1 div.sk-toggleable__content pre {margin: 0.2em;color: black;border-radius: 0.25em;background-color: #f0f8ff;}#sk-container-id-1 input.sk-toggleable__control:checked~div.sk-toggleable__content {max-height: 200px;max-width: 100%;overflow: auto;}#sk-container-id-1 input.sk-toggleable__control:checked~label.sk-toggleable__label-arrow:before {content: \"▾\";}#sk-container-id-1 div.sk-estimator input.sk-toggleable__control:checked~label.sk-toggleable__label {background-color: #d4ebff;}#sk-container-id-1 div.sk-label input.sk-toggleable__control:checked~label.sk-toggleable__label {background-color: #d4ebff;}#sk-container-id-1 input.sk-hidden--visually {border: 0;clip: rect(1px 1px 1px 1px);clip: rect(1px, 1px, 1px, 1px);height: 1px;margin: -1px;overflow: hidden;padding: 0;position: absolute;width: 1px;}#sk-container-id-1 div.sk-estimator {font-family: monospace;background-color: #f0f8ff;border: 1px dotted black;border-radius: 0.25em;box-sizing: border-box;margin-bottom: 0.5em;}#sk-container-id-1 div.sk-estimator:hover {background-color: #d4ebff;}#sk-container-id-1 div.sk-parallel-item::after {content: \"\";width: 100%;border-bottom: 1px solid gray;flex-grow: 1;}#sk-container-id-1 div.sk-label:hover label.sk-toggleable__label {background-color: #d4ebff;}#sk-container-id-1 div.sk-serial::before {content: \"\";position: absolute;border-left: 1px solid gray;box-sizing: border-box;top: 0;bottom: 0;left: 50%;z-index: 0;}#sk-container-id-1 div.sk-serial {display: flex;flex-direction: column;align-items: center;background-color: white;padding-right: 0.2em;padding-left: 0.2em;position: relative;}#sk-container-id-1 div.sk-item {position: relative;z-index: 1;}#sk-container-id-1 div.sk-parallel {display: flex;align-items: stretch;justify-content: center;background-color: white;position: relative;}#sk-container-id-1 div.sk-item::before, #sk-container-id-1 div.sk-parallel-item::before {content: \"\";position: absolute;border-left: 1px solid gray;box-sizing: border-box;top: 0;bottom: 0;left: 50%;z-index: -1;}#sk-container-id-1 div.sk-parallel-item {display: flex;flex-direction: column;z-index: 1;position: relative;background-color: white;}#sk-container-id-1 div.sk-parallel-item:first-child::after {align-self: flex-end;width: 50%;}#sk-container-id-1 div.sk-parallel-item:last-child::after {align-self: flex-start;width: 50%;}#sk-container-id-1 div.sk-parallel-item:only-child::after {width: 0;}#sk-container-id-1 div.sk-dashed-wrapped {border: 1px dashed gray;margin: 0 0.4em 0.5em 0.4em;box-sizing: border-box;padding-bottom: 0.4em;background-color: white;}#sk-container-id-1 div.sk-label label {font-family: monospace;font-weight: bold;display: inline-block;line-height: 1.2em;}#sk-container-id-1 div.sk-label-container {text-align: center;}#sk-container-id-1 div.sk-container {/* jupyter's `normalize.less` sets `[hidden] { display: none; }` but bootstrap.min.css set `[hidden] { display: none !important; }` so we also need the `!important` here to be able to override the default hidden behavior on the sphinx rendered scikit-learn.org. See: https://github.com/scikit-learn/scikit-learn/issues/21755 */display: inline-block !important;position: relative;}#sk-container-id-1 div.sk-text-repr-fallback {display: none;}</style><div id=\"sk-container-id-1\" class=\"sk-top-container\"><div class=\"sk-text-repr-fallback\"><pre>LinearRegression()</pre><b>In a Jupyter environment, please rerun this cell to show the HTML representation or trust the notebook. <br />On GitHub, the HTML representation is unable to render, please try loading this page with nbviewer.org.</b></div><div class=\"sk-container\" hidden><div class=\"sk-item\"><div class=\"sk-estimator sk-toggleable\"><input class=\"sk-toggleable__control sk-hidden--visually\" id=\"sk-estimator-id-1\" type=\"checkbox\" checked><label for=\"sk-estimator-id-1\" class=\"sk-toggleable__label sk-toggleable__label-arrow\">LinearRegression</label><div class=\"sk-toggleable__content\"><pre>LinearRegression()</pre></div></div></div></div></div>"
            ]
          },
          "metadata": {},
          "execution_count": 36
        }
      ],
      "source": [
        "from sklearn.linear_model import LinearRegression\n",
        "\n",
        "X_train\n",
        "\n",
        "#Representing LinearRegression as reg, create a LinearRegression bbject\n",
        "reg = LinearRegression()\n",
        "\n",
        "# Fit the model using lr.fit()\n",
        "reg.fit(X_train, y_train)"
      ]
    },
    {
      "cell_type": "markdown",
      "id": "b79d8d66",
      "metadata": {
        "id": "b79d8d66"
      },
      "source": [
        "Alright! You now have your model ($ sales = \\beta_0 + \\beta_1 \\times TV$). Let's print your model's parameters:"
      ]
    },
    {
      "cell_type": "code",
      "execution_count": null,
      "id": "bd70ccb0",
      "metadata": {
        "colab": {
          "base_uri": "https://localhost:8080/"
        },
        "id": "bd70ccb0",
        "outputId": "2b97908e-b241-4a44-f09b-600d3d5530f1"
      },
      "outputs": [
        {
          "output_type": "stream",
          "name": "stdout",
          "text": [
            "[6.86407506]\n",
            "[[0.04857609]]\n"
          ]
        }
      ],
      "source": [
        "# Print the intercept and coefficients\n",
        "print(reg.intercept_)\n",
        "print(reg.coef_)"
      ]
    },
    {
      "cell_type": "markdown",
      "id": "74c6835b",
      "metadata": {
        "id": "74c6835b"
      },
      "source": [
        "Write down your equation!"
      ]
    },
    {
      "cell_type": "markdown",
      "id": "459a7661",
      "metadata": {
        "id": "459a7661"
      },
      "source": [
        "Now, let's use this equation to predict our sales."
      ]
    },
    {
      "cell_type": "code",
      "execution_count": null,
      "id": "9470b065",
      "metadata": {
        "id": "9470b065",
        "outputId": "b0176a23-74ec-4abb-a54d-47ed0ddd48a2",
        "colab": {
          "base_uri": "https://localhost:8080/",
          "height": 227
        }
      },
      "outputs": [
        {
          "output_type": "error",
          "ename": "NameError",
          "evalue": "ignored",
          "traceback": [
            "\u001b[0;31m---------------------------------------------------------------------------\u001b[0m",
            "\u001b[0;31mNameError\u001b[0m                                 Traceback (most recent call last)",
            "\u001b[0;32m<ipython-input-1-2481a1c7a297>\u001b[0m in \u001b[0;36m<cell line: 2>\u001b[0;34m()\u001b[0m\n\u001b[1;32m      1\u001b[0m \u001b[0;31m# Find the X and y from test datasets\u001b[0m\u001b[0;34m\u001b[0m\u001b[0;34m\u001b[0m\u001b[0m\n\u001b[0;32m----> 2\u001b[0;31m \u001b[0mX_test\u001b[0m \u001b[0;34m=\u001b[0m \u001b[0mnp\u001b[0m\u001b[0;34m.\u001b[0m\u001b[0marray\u001b[0m\u001b[0;34m(\u001b[0m\u001b[0mtv_train\u001b[0m\u001b[0;34m[\u001b[0m\u001b[0;34m\"TV\"\u001b[0m\u001b[0;34m]\u001b[0m\u001b[0;34m)\u001b[0m\u001b[0;34m.\u001b[0m\u001b[0mreshape\u001b[0m\u001b[0;34m(\u001b[0m\u001b[0;34m-\u001b[0m\u001b[0;36m1\u001b[0m\u001b[0;34m,\u001b[0m\u001b[0;36m1\u001b[0m\u001b[0;34m)\u001b[0m\u001b[0;34m\u001b[0m\u001b[0;34m\u001b[0m\u001b[0m\n\u001b[0m\u001b[1;32m      3\u001b[0m \u001b[0;34m\u001b[0m\u001b[0m\n\u001b[1;32m      4\u001b[0m \u001b[0my_test\u001b[0m \u001b[0;34m=\u001b[0m \u001b[0mnp\u001b[0m\u001b[0;34m.\u001b[0m\u001b[0marray\u001b[0m\u001b[0;34m(\u001b[0m\u001b[0mtv_train\u001b[0m\u001b[0;34m[\u001b[0m\u001b[0;34m\"Sales\"\u001b[0m\u001b[0;34m]\u001b[0m\u001b[0;34m)\u001b[0m\u001b[0;34m.\u001b[0m\u001b[0mreshape\u001b[0m\u001b[0;34m(\u001b[0m\u001b[0;34m-\u001b[0m\u001b[0;36m1\u001b[0m\u001b[0;34m,\u001b[0m\u001b[0;36m1\u001b[0m\u001b[0;34m)\u001b[0m\u001b[0;34m\u001b[0m\u001b[0;34m\u001b[0m\u001b[0m\n",
            "\u001b[0;31mNameError\u001b[0m: name 'np' is not defined"
          ]
        }
      ],
      "source": [
        "# Find the X and y from test datasets\n",
        "X_test = np.array(tv_train[\"TV\"]).reshape(-1,1)\n",
        "\n",
        "y_test = np.array(tv_train[\"Sales\"]).reshape(-1,1)"
      ]
    },
    {
      "cell_type": "code",
      "execution_count": null,
      "id": "53ff6c5b",
      "metadata": {
        "colab": {
          "base_uri": "https://localhost:8080/"
        },
        "id": "53ff6c5b",
        "outputId": "ef378582-e31e-4377-baa6-aa5400bf8aba"
      },
      "outputs": [
        {
          "output_type": "stream",
          "name": "stdout",
          "text": [
            "[[13.3878442 ]\n",
            " [15.46204333]\n",
            " [ 9.03542637]\n",
            " [ 7.12638596]\n",
            " [ 8.70996656]\n",
            " [11.15334398]\n",
            " [14.96656719]\n",
            " [17.47795114]\n",
            " [ 8.07847736]\n",
            " [12.34831584]\n",
            " [10.57528848]\n",
            " [ 8.19991759]\n",
            " [17.09905762]\n",
            " [17.5653881 ]\n",
            " [15.46204333]\n",
            " [18.67778061]\n",
            " [10.57043087]\n",
            " [ 8.39422196]\n",
            " [18.52719472]\n",
            " [14.47109105]\n",
            " [ 7.77244798]\n",
            " [10.52185478]\n",
            " [13.72787685]\n",
            " [10.57528848]\n",
            " [ 8.25335129]\n",
            " [14.22335298]\n",
            " [ 7.43241534]\n",
            " [12.19772995]\n",
            " [12.49890172]\n",
            " [16.46271082]\n",
            " [11.58567119]\n",
            " [19.19268718]\n",
            " [12.08114733]\n",
            " [16.46271082]\n",
            " [ 9.29287966]\n",
            " [19.6250144 ]\n",
            " [21.2620287 ]\n",
            " [13.67930075]\n",
            " [ 6.89807833]\n",
            " [ 8.16591433]\n",
            " [13.48013878]\n",
            " [14.0193334 ]\n",
            " [ 9.59405143]\n",
            " [19.74645463]\n",
            " [15.39889441]\n",
            " [18.39603927]\n",
            " [ 7.50042187]\n",
            " [14.80626609]\n",
            " [15.04428894]\n",
            " [17.57510332]\n",
            " [ 9.02571115]\n",
            " [11.8528397 ]\n",
            " [11.09991028]\n",
            " [18.0414338 ]\n",
            " [17.23021307]\n",
            " [20.93656888]\n",
            " [17.29336199]\n",
            " [10.75987763]\n",
            " [11.02704614]\n",
            " [15.24345091]\n",
            " [13.56271813]\n",
            " [16.8221739 ]\n",
            " [ 9.75921014]\n",
            " [11.74111469]\n",
            " [14.85484218]\n",
            " [18.52719472]\n",
            " [10.15753409]\n",
            " [17.47309353]\n",
            " [15.99152273]\n",
            " [11.25535377]\n",
            " [19.27040893]\n",
            " [11.51280706]\n",
            " [13.23240071]\n",
            " [17.10391523]\n",
            " [19.82903398]\n",
            " [20.75683734]\n",
            " [12.84379197]\n",
            " [18.93037629]\n",
            " [20.67425798]\n",
            " [ 7.28182945]\n",
            " [17.43909026]\n",
            " [18.25516861]\n",
            " [17.37594135]\n",
            " [16.27326406]\n",
            " [ 7.69958384]\n",
            " [ 8.65653285]\n",
            " [12.74178218]\n",
            " [12.24144843]\n",
            " [21.09201237]\n",
            " [19.76588507]\n",
            " [15.84579445]\n",
            " [16.77845542]\n",
            " [13.43156269]\n",
            " [17.90056314]\n",
            " [20.47509601]\n",
            " [19.63472962]\n",
            " [19.05181652]\n",
            " [ 7.27211424]\n",
            " [10.07495474]\n",
            " [10.53157   ]\n",
            " [11.5370951 ]\n",
            " [13.62586705]\n",
            " [17.6673979 ]\n",
            " [13.26154636]\n",
            " [12.55719303]\n",
            " [12.70292131]\n",
            " [ 8.78283069]\n",
            " [18.43490015]\n",
            " [20.30507969]\n",
            " [18.5174795 ]\n",
            " [17.04562392]\n",
            " [ 8.02018605]\n",
            " [ 8.71968177]\n",
            " [15.1317259 ]\n",
            " [20.53338732]\n",
            " [ 7.68501102]\n",
            " [ 7.77730559]\n",
            " [14.90827588]\n",
            " [15.36974875]\n",
            " [17.95399684]\n",
            " [20.64025472]\n",
            " [ 7.80645125]\n",
            " [17.54110006]\n",
            " [13.14982135]\n",
            " [ 7.81616647]\n",
            " [12.19772995]\n",
            " [11.94513427]\n",
            " [ 8.95770462]\n",
            " [15.64663247]\n",
            " [ 7.73358711]\n",
            " [15.73406944]\n",
            " [10.2158254 ]\n",
            " [16.90961086]\n",
            " [15.98666512]\n",
            " [16.70073367]\n",
            " [ 9.46289598]\n",
            " [ 9.89036559]\n",
            " [10.29354715]\n",
            " [ 8.10762302]\n",
            " [ 7.28668706]\n",
            " [11.60024402]\n",
            " [13.80559859]\n",
            " [ 9.65720035]\n",
            " [ 8.95284702]\n",
            " [10.49270913]\n",
            " [11.22135051]\n",
            " [17.32736525]\n",
            " [16.14696622]\n",
            " [ 8.08333497]\n",
            " [ 7.06323704]]\n"
          ]
        }
      ],
      "source": [
        "# Prediction!\n",
        "# Use reg.predict(X_test) to see what is the model prediction. Store your result in y_pred.\n",
        "\n",
        "y_pred = reg.predict(X_test)\n",
        "print(y_pred)"
      ]
    },
    {
      "cell_type": "markdown",
      "id": "ec830a82",
      "metadata": {
        "id": "ec830a82"
      },
      "source": [
        "How do we check if it did a good job predicting the $y$ values? Well, we can simple compare y_text and y_pred. Lets plot them:"
      ]
    },
    {
      "cell_type": "code",
      "execution_count": null,
      "id": "9f585108",
      "metadata": {
        "colab": {
          "base_uri": "https://localhost:8080/",
          "height": 447
        },
        "id": "9f585108",
        "outputId": "fa6799ed-d8b1-4976-92ed-9d605c38e722"
      },
      "outputs": [
        {
          "output_type": "execute_result",
          "data": {
            "text/plain": [
              "<matplotlib.collections.PathCollection at 0x78e81cd18730>"
            ]
          },
          "metadata": {},
          "execution_count": 49
        },
        {
          "output_type": "display_data",
          "data": {
            "text/plain": [
              "<Figure size 640x480 with 1 Axes>"
            ],
            "image/png": "[encoded data removed]"
          },
          "metadata": {}
        }
      ],
      "source": [
        "# you code!\n",
        "#Actual vs Predicted\n",
        "\n",
        "plt.scatter(y_test, y_pred)"
      ]
    },
    {
      "cell_type": "markdown",
      "id": "e9c281df",
      "metadata": {
        "id": "e9c281df"
      },
      "source": [
        "We can create a new list by subtracting the predicted values (y-pred) from the actual values (y_test), and then plot this list to assess the performance of your model."
      ]
    },
    {
      "cell_type": "code",
      "execution_count": null,
      "id": "3144d461",
      "metadata": {
        "colab": {
          "base_uri": "https://localhost:8080/",
          "height": 447
        },
        "id": "3144d461",
        "outputId": "6971c323-ddbc-4a55-8c48-bb103f68be2e"
      },
      "outputs": [
        {
          "output_type": "execute_result",
          "data": {
            "text/plain": [
              "<matplotlib.collections.PathCollection at 0x78e81ce12e60>"
            ]
          },
          "metadata": {},
          "execution_count": 48
        },
        {
          "output_type": "display_data",
          "data": {
            "text/plain": [
              "<Figure size 640x480 with 1 Axes>"
            ],
            "image/png": "[encoded data removed]"
          },
          "metadata": {}
        }
      ],
      "source": [
        "# you code\n",
        "# plot (y_test - y_pred)\n",
        "plt.scatter(X_test, y_test - y_pred)"
      ]
    },
    {
      "cell_type": "markdown",
      "id": "bd21b184",
      "metadata": {
        "id": "bd21b184"
      },
      "source": [
        "But it would be nice to quantify the performance! To do so, we use Root Mean Square Error (RMSE) and R-squared $(R^2)$ Values.\n",
        "\n",
        "RMSE (Root Mean Square Error) and $R^2$ are both commonly used metrics in regression analysis to assess the performance of a regression model. RMSE measures the accuracy of predictions by quantifying the error between predicted and actual values, while R^2 measures how well the independent variables in the model explain the variation in the dependent variable. A high R^2 value and a low RMSE value are generally indicative of a good regression model.\n",
        "\n",
        "For example,\n",
        "$RMSE = 7.9$ means that this model is not able to match the $7.9$ percent of the values. And\n",
        "$R^2 = 0.72$ means that your model is $72\\%$ accurate on test data ."
      ]
    },
    {
      "cell_type": "code",
      "execution_count": null,
      "id": "8bacb24e",
      "metadata": {
        "colab": {
          "base_uri": "https://localhost:8080/"
        },
        "id": "8bacb24e",
        "outputId": "ed0e46a8-d671-4e42-eaa3-80b2404dafc8"
      },
      "outputs": [
        {
          "output_type": "stream",
          "name": "stdout",
          "text": [
            "8.823769339178577\n"
          ]
        }
      ],
      "source": [
        "from sklearn.metrics import mean_squared_error, r2_score\n",
        "rmse = mean_squared_error(y_test, y_pred)\n",
        "print(rmse)"
      ]
    },
    {
      "cell_type": "markdown",
      "id": "d210f8c9",
      "metadata": {
        "id": "d210f8c9"
      },
      "source": [
        "Congratulations! You are done with lab 2!"
      ]
    },
    {
      "cell_type": "markdown",
      "id": "c21bc73e",
      "metadata": {
        "id": "c21bc73e"
      },
      "source": [
        "__More on MSRE and R^2__\n",
        "\n",
        "<span style=\"color:blue\">RMSE (Root Mean Square Error):</span>\n",
        "The RMSE is a measure of the average deviation between the predicted values of a regression model and the actual observed values. It quantifies the accuracy of predictions by calculating the square root of the mean of the squared differences between predicted and actual values. RMSE is expressed in the same units as the dependent variable (the variable you are trying to predict) and provides a measure of how much, on average, your predictions deviate from the true values. Lower RMSE values indicate better model performance, with values closer to 0 indicating a more accurate model.\n",
        "\n",
        "RMSE is calculated as follows:\n",
        "\n",
        "$\n",
        "\\text{RMSE} = \\sqrt{\\frac{1}{n}\\sum_{i=1}^{n}(y_i - \\hat{y}_i)^2}\n",
        "$\n",
        "Where:\n",
        "\\begin{align*}\n",
        "y_i & : \\text{Actual or observed values} \\\\\n",
        "\\hat{y}_i & : \\text{Predicted values} \\\\\n",
        "n & : \\text{Number of data points}\n",
        "\\end{align*}\n",
        "\n",
        "\n",
        "<span style=\"color:blue\">\\(R^2\\) (Coefficient of Determination):</span>\n",
        "The \\(R^2\\) value measures the proportion of the variance in the dependent variable that is explained by the independent variables in a regression model. It ranges between 0 and 1, where 0 indicates that the model does not explain any variance, and 1 indicates that the model explains all the variance. \\(R^2\\) is a relative measure of goodness of fit, showing how well the model fits the data compared to a simple horizontal line (the mean of the dependent variable). Higher \\(R^2\\) values indicate that a larger proportion of the variance in the dependent variable is explained by the model, suggesting a better fit.\n"
      ]
    },
    {
      "cell_type": "code",
      "execution_count": null,
      "id": "5bc549dd",
      "metadata": {
        "id": "5bc549dd"
      },
      "outputs": [],
      "source": []
    }
  ],
  "metadata": {
    "kernelspec": {
      "display_name": "Python 3",
      "language": "python",
      "name": "python3"
    },
    "language_info": {
      "codemirror_mode": {
        "name": "ipython",
        "version": 3
      },
      "file_extension": ".py",
      "mimetype": "text/x-python",
      "name": "python",
      "nbconvert_exporter": "python",
      "pygments_lexer": "ipython3",
      "version": "3.8.5"
    },
    "colab": {
      "provenance": []
    }
  },
  "nbformat": 4,
  "nbformat_minor": 5
}